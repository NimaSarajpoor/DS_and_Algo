{
 "cells": [
  {
   "cell_type": "markdown",
   "id": "acc51302",
   "metadata": {},
   "source": [
    "In this tutoril, we would like to cover different data structure and algorithms. We use \"Python\". We assume the reader is familiar with Python and knows some basics about Object-Oriented Programming (OOP). If you are new to OOP, you may learn the fundamentals throught these [youtube videos](https://www.youtube.com/watch?v=ZDa-Z5JzLYM&list=PL-osiE80TeTsqhIuOqKhwlXsIBIdSeYtc).\n",
    "\n",
    "This notebook is created based on the materials provided in this [open-source book](https://github.com/liyin2015/python-coding-interview), with this [LICENSE](https://github.com/liyin2015/python-coding-interview/blob/master/LICENSE), and this [course](https://www.udemy.com/course/algorithms-and-data-structures-in-python/), my own understanding, with some examples from LeetCode and other places...\n",
    "\n",
    "I tried to make it shorter and provide some examples. If you are new to this topic, you may want to check out the original source first and then check out this notebook."
   ]
  },
  {
   "cell_type": "markdown",
   "id": "5505fde4",
   "metadata": {},
   "source": [
    "# 0- import libraries\n",
    "Instead of importing libraries in different cells, I prefer to import them all here so I can know what libraries I have imported so far."
   ]
  },
  {
   "cell_type": "code",
   "execution_count": 29,
   "id": "020346bf",
   "metadata": {},
   "outputs": [],
   "source": [
    "from collections import deque, Counter"
   ]
  },
  {
   "cell_type": "markdown",
   "id": "cd008d36",
   "metadata": {},
   "source": [
    "# 1- Introduction"
   ]
  },
  {
   "cell_type": "markdown",
   "id": "24489006",
   "metadata": {},
   "source": [
    "**What is data structure?** <br>\n",
    "As the name suggests, it is the structure of data! Yes, that's it! The whole idea is to structure data so that  we can use it in an efficient way in our problem. <br>\n",
    "\n",
    "For instance, do you want to put 10 pills in a bowl, or do you prefer to put them in a pills's organizer? "
   ]
  },
  {
   "cell_type": "markdown",
   "id": "52bbab8b",
   "metadata": {},
   "source": [
    "<img src=\"./images/pill_organizer.png\" alt=\"Drawing\" style=\"width: 500px;\"/>"
   ]
  },
  {
   "cell_type": "markdown",
   "id": "116ba0f5",
   "metadata": {},
   "source": [
    "**Data structure should usually support four main operations:**\n",
    "* Add iteme\n",
    "* Delete item\n",
    "* Search iteme\n",
    "* Update item"
   ]
  },
  {
   "cell_type": "markdown",
   "id": "65e0ac72",
   "metadata": {},
   "source": [
    "**What is algorithm?** <br>\n",
    "A well-defined step-by-step process for accomplishing a certain task. \n",
    "\n",
    "**Okay, so why do we see the terms \"data structure\" and \"algorithm\" together?** <br>\n",
    "Because, for a particulr algorithm, we may use a certain data structure to make our program more efficient in terms of memory usage and computation time."
   ]
  },
  {
   "cell_type": "markdown",
   "id": "cb39a915",
   "metadata": {},
   "source": [
    "**Should I really learn these algorithms and data structure? Wouldn't it be like reading dictionary rather than learning a language? Isn't it better to learn it by just practicing it?**"
   ]
  },
  {
   "cell_type": "markdown",
   "id": "f386f2c8",
   "metadata": {},
   "source": [
    "This is similar to learning 2+2=4 in math. You cannot expect to learn and solve all math problems. However, learning fundamental stuff can help you gain enough skills to handle a new problem. So, as you read and study data structure and algroithms, think of them as some fundamental knowledge that you can use in a problem."
   ]
  },
  {
   "cell_type": "markdown",
   "id": "6598015e",
   "metadata": {},
   "source": [
    "**To solve a problem, we need to understand its five main components:**<br>\n",
    "* **Initial State:** the start point of algorithm\n",
    "* **MOVE:** that should be taken to move from one state to another\n",
    "* **State Transfer:** the destination state resulted from a Move on an origin state.\n",
    "* **State Space:** the set of all states reachable from initial state by any sequence of MOVES.\n",
    "* **Goal Test:** to test if a state is the goal test or not."
   ]
  },
  {
   "cell_type": "markdown",
   "id": "d14cd16e",
   "metadata": {},
   "source": [
    "**EXAMPLE:** <br>\n",
    "Suppose you want to find the phone number of someone in a phonebook... and yes, I mean using hardcopy and not Google, and yes, the names are sorted alphabetically. <br> \n",
    "\n",
    "What do you do? \n",
    "* Approach I: Scanning the names in each page. If the name is not found, go the next page! Very simple but time consuming!\n",
    "* Approach II: You can just open the middle  of the book. Then you checkout the top-left name and the bottom-right name, and it can help you decide whether the name you are looking for is just there, or you need to now search through the first half, or the second laf. You continue doing so till you find the name and its number.\n",
    "\n",
    "**...How can I describe the solution provided in \"Approach II\" by the help of five components provided earlier?**\n",
    "* Initial State: The whole phonebook\n",
    "* Move: Compare the name in the middle and deccide to search first half, or search the second half\n",
    "* State Transfer: The half of the range of names in the origin's state\n",
    "* State Space: All pages\n",
    "* Goal Test: Is the middle name the query? If not, continue the process."
   ]
  },
  {
   "cell_type": "markdown",
   "id": "e6c654cd",
   "metadata": {},
   "source": [
    "# 2- Tips for Interview"
   ]
  },
  {
   "cell_type": "markdown",
   "id": "f70e6533",
   "metadata": {},
   "source": [
    "This section is a little bit soon! However, I am providing it here so to be consistent with [the original source](https://github.com/liyin2015/python-coding-interview). <br>\n",
    "\n",
    "**A few tips for coding interview:**\n",
    "* Identify the type of problem \n",
    "    * LeetCode has different categories, take a look at them and focus on those types.\n",
    "    * when you are doing LeetCode, think about the type of problem!\n",
    "* Think about time/space complexity \n",
    "    * Is your solution suitable for the size of input? If not, then try to use another algorithm and/or optimize your code\n",
    "* Learn how to find edge cases and test them (maybe learn how to write unit tests!!!)\n",
    "* Learn your programming language well "
   ]
  },
  {
   "cell_type": "markdown",
   "id": "03e8edc3",
   "metadata": {},
   "source": [
    "**Resources:**\n",
    "* LeetCode: Use tags to focus on one category after another, do unit test(!), and check out discussion to get some ideas about different approaches\n",
    "\n",
    "* HackerRank / CodeChef \n",
    "\n",
    "* To visualize algorithms, see: https://algorithm-visualizer.org/"
   ]
  },
  {
   "cell_type": "markdown",
   "id": "6cd7677c",
   "metadata": {},
   "source": [
    "# 3- ADS: Abstract Data Structure"
   ]
  },
  {
   "cell_type": "markdown",
   "id": "a63dd86a",
   "metadata": {},
   "source": [
    "Three main ways to organize data:\n",
    "* Linear\n",
    "* Tree-like\n",
    "* Graph-like"
   ]
  },
  {
   "cell_type": "markdown",
   "id": "e6da4811",
   "metadata": {},
   "source": [
    "## 3-1: \"Linear\" Data Structures"
   ]
  },
  {
   "cell_type": "markdown",
   "id": "79b73ec1",
   "metadata": {},
   "source": [
    "### 3-1-1: Arrays"
   ]
  },
  {
   "cell_type": "markdown",
   "id": "429fd80c",
   "metadata": {},
   "source": [
    "**> Static Arrays:** Fixed-size container. An element can be accessed in O(1) provided its index (offset). Due to constant time complexitiy for accessing elements with help of their indices, we say that it has \"Random Access\". \n",
    "<br>\n",
    "<br>\n",
    "**> Dynamic Arrays:** As opposed to static arrays, the size of dynamic arrays can change. One way to create such array is to allocated more-than-needed memory to an array, and then fill it if necessary. However, when the array becomes full, adding element to it becomes expensive as the array needs to copy all its element to a new longer array. "
   ]
  },
  {
   "cell_type": "markdown",
   "id": "04c75676",
   "metadata": {},
   "source": [
    "**Note:** Array requires physical contiguitiy of memory to store information. However, if our data is large and the memory of the computer is not sufficient, one solution is to use other data structures such as linkedlist, tree-like or graph-like that do not require the memroy contiguitiy.\n",
    "<br>\n",
    "\n",
    "**Note:** In python, \"list\" and \"numpy.array\" are of type arrays. In python, we do not need to define the array to be static or dynamic. These arrays are static in nature and they can act as dynamic arrays by simply adding/removing items from them."
   ]
  },
  {
   "cell_type": "markdown",
   "id": "24470c53",
   "metadata": {},
   "source": [
    "**Time Complexity of Operations in array with length `n`:**\n",
    "* Random access with given index: O(1)\n",
    "* Insertion/Deletion: ~O(n)\n",
    "* Search for a value: O(n)"
   ]
  },
  {
   "cell_type": "code",
   "execution_count": 4,
   "id": "f0e4a458",
   "metadata": {},
   "outputs": [],
   "source": [
    "#Practice:\n",
    "#leetcode: https://leetcode.com/problems/remove-duplicates-from-sorted-array/\n",
    "\n",
    "#let's do it without using set!\n",
    "def remove_duplicates(nums):\n",
    "    \"\"\"\n",
    "    This function takes a list of numbers sorted in non-descending order and remove duplicates in place such that the \n",
    "    unique elements appear in the beginning of the input `nums`\n",
    "    \"\"\"\n",
    "    prev_val = -1\n",
    "    k = 0\n",
    "    for i in range(len(nums)):\n",
    "        if nums[i] != prev_val:\n",
    "            nums[k] = nums[i]\n",
    "            prev_val = nums[i]\n",
    "            k += 1\n",
    "            continue\n",
    "\n",
    "    return k"
   ]
  },
  {
   "cell_type": "code",
   "execution_count": 6,
   "id": "ccd69c8b",
   "metadata": {},
   "outputs": [
    {
     "name": "stdout",
     "output_type": "stream",
     "text": [
      "[1, 2, 3]\n"
     ]
    }
   ],
   "source": [
    "#input\n",
    "nums = [1,1,1,2,3,3]\n",
    "\n",
    "#run code\n",
    "k = remove_duplicates(nums)\n",
    "\n",
    "#output\n",
    "print(nums[:k])"
   ]
  },
  {
   "cell_type": "markdown",
   "id": "beb11163",
   "metadata": {},
   "source": [
    "### 3-1-2: Linked List"
   ]
  },
  {
   "cell_type": "markdown",
   "id": "8e5b275e",
   "metadata": {},
   "source": [
    "Linked list is A dynamic array. It consists of several nodes, where each node contains two piece of information: the data, and the pointer to the next node!"
   ]
  },
  {
   "cell_type": "markdown",
   "id": "a879d388",
   "metadata": {},
   "source": [
    "<img src=\"./images/Linked_List.png\" alt=\"Drawing\" style=\"width: 600px;\"/>"
   ]
  },
  {
   "cell_type": "markdown",
   "id": "c27d3613",
   "metadata": {},
   "source": [
    "Therefore, if we are at node \"HEAD\", we can traverse the linked list by using \"Pointer\" to move from one node to the next. Whenever we reach \"NULL\", we know we reach the end of linked list, and we will stop!\n",
    "<br>\n",
    "\n",
    "**Note:** Although we can insert a value to the middle or end of linked list, we usually add data to the beginning of the linked list, and update its \"HEAD\" accordingly. We can do it in O(1) time. However, adding a value to the middle / end of linkedlist requires us to traverse some nodes till we find the suitable location for inserting the value. So, it takes ~O(n) time."
   ]
  },
  {
   "cell_type": "code",
   "execution_count": 7,
   "id": "209b59f0",
   "metadata": {},
   "outputs": [],
   "source": [
    "#implementing linked list\n",
    "class Node:\n",
    "    def __init__(self, value=None, pointer=None):\n",
    "        self.value = value\n",
    "        self.pointer = pointer\n",
    "        \n",
    "class Linked_List:\n",
    "    def __init__(self):\n",
    "        self.head = None\n",
    "    \n",
    "    \n",
    "    def append_at_head(self, value):\n",
    "        self.head = Node(value, pointer=self.head)        \n",
    "\n",
    "    \n",
    "    def _to_list(self):\n",
    "        lst = []\n",
    "        current_node = self.head\n",
    "        while current_node is not None:\n",
    "            lst.append(current_node.value)\n",
    "            current_node = current_node.pointer\n",
    "        \n",
    "        return lst\n",
    "    \n",
    "    \n",
    "    def remove(self, value):\n",
    "        prev_node = None\n",
    "        current_node = self.head\n",
    "        while current_node is not None:\n",
    "            if current_node.value == value:\n",
    "                break\n",
    "            prev_node = current_node\n",
    "            current_node = current_node.pointer\n",
    "        \n",
    "        if current_node is not None:\n",
    "            if prev_node is None:\n",
    "                self.head = current_node.pointer\n",
    "            else:\n",
    "                prev_node.pointer = current_node.pointer\n",
    "\n",
    "    def has_value(self, value):\n",
    "        #return yes if such value exist\n",
    "        current_node = self.head\n",
    "        while current_node is not None:\n",
    "            if current_node.value == value:\n",
    "                return True\n",
    "            current_node = current_node.pointer\n",
    "        \n",
    "        return False"
   ]
  },
  {
   "cell_type": "code",
   "execution_count": 11,
   "id": "58a4c26c",
   "metadata": {},
   "outputs": [
    {
     "name": "stdout",
     "output_type": "stream",
     "text": [
      "creating linked list:\n",
      "head is: None\n",
      "------------------\n",
      "appeding values in this order: 5, 6, -1, 10\n",
      "list of values (from head to end):  [10, -1, 6, 5]\n",
      "and the value at head is:  10\n",
      "-----------------\n",
      "after removing 11: [10, -1, 6, 5]\n",
      "and the value of head is:  10\n",
      "-----------------\n",
      "after removing -1: [10, 6, 5]\n",
      "and the value of head is:  10\n",
      "-----------------\n",
      "after removing 10: [6, 5]\n",
      "and the value of head is:  6\n",
      "-----------------\n",
      "after removing 5: [6]\n",
      "and the value of head is:  6\n",
      "-----------------\n",
      "linked list now contains:  [6]\n",
      "Does linked list have value -1? False\n",
      "Does linked list have value 6? True\n"
     ]
    }
   ],
   "source": [
    "# Example:\n",
    "L = Linked_List()\n",
    "print('creating linked list:')\n",
    "print(f'head is: {L.head}')\n",
    "print('------------------')\n",
    "\n",
    "L.append_at_head(5)\n",
    "L.append_at_head(6)\n",
    "L.append_at_head(-1)\n",
    "L.append_at_head(10)\n",
    "print('appeding values in this order: 5, 6, -1, 10')\n",
    "print('list of values (from head to end): ', L._to_list())\n",
    "print('and the value at head is: ', L.head.value)\n",
    "print('-----------------')\n",
    "\n",
    "for val in [11, -1, 10, 5]:\n",
    "    L.remove(val)\n",
    "    print(f'after removing {val}: {L._to_list()}')\n",
    "    print('and the value of head is: ', L.head.value)\n",
    "    print('-----------------')\n",
    "\n",
    "print('linked list now contains: ', L._to_list())\n",
    "print('Does linked list have value -1?', L.has_value(-1))\n",
    "print('Does linked list have value 6?', L.has_value(6))"
   ]
  },
  {
   "cell_type": "markdown",
   "id": "158f3b6b",
   "metadata": {},
   "source": [
    "**The figure provided above shows singly linked list (i.e. it has one pointer). However, we may use doubly-linked list in cases where backward traversing becomes useful in an application. To create doubly-linked list, we just need to add an extra attribute to each node.**"
   ]
  },
  {
   "cell_type": "markdown",
   "id": "4259036e",
   "metadata": {},
   "source": [
    "**Time Complexity of Operations:** \n",
    "* No random access\n",
    "* Each node is an object stored in the memory. Therefore, we can insert/delete an item in O(1) IF we are provided with its parent's node.\n",
    "* Insert/Delete at the head: O(1)\n",
    "* Addition memory is required to store pointers: O(n)"
   ]
  },
  {
   "cell_type": "markdown",
   "id": "4a7cef5b",
   "metadata": {},
   "source": [
    "**Note:** A linked list data structure is actually a recursive data structure; any node can be treated as a head node thus making the rest a sub-linked list."
   ]
  },
  {
   "cell_type": "code",
   "execution_count": 12,
   "id": "89509812",
   "metadata": {},
   "outputs": [],
   "source": [
    "# Practice:\n",
    "# Leetcode: https://leetcode.com/problems/remove-linked-list-elements/\n",
    "\n",
    "def removeElements(head, value):\n",
    "    \"\"\"\n",
    "    This function takes the head of a linked list, `head`, and remove any node that contains `value` \n",
    "    and return the head of linkedlist\n",
    "    \"\"\"\n",
    "    if head is None:\n",
    "        return head\n",
    "\n",
    "    previous_node = None\n",
    "    current_node = head\n",
    "    while current_node:\n",
    "        if current_node.value == value:\n",
    "            if previous_node is None:\n",
    "                head = current_node.pointer\n",
    "                current_node = head\n",
    "            else:\n",
    "                previous_node.pointer = current_node.pointer\n",
    "                current_node = current_node.pointer\n",
    "        else:\n",
    "            previous_node = current_node\n",
    "            current_node = current_node.pointer\n",
    "\n",
    "    return head"
   ]
  },
  {
   "cell_type": "code",
   "execution_count": 16,
   "id": "96e0c97e",
   "metadata": {},
   "outputs": [
    {
     "name": "stdout",
     "output_type": "stream",
     "text": [
      "linked list (from head to end):  [5, 5, 1, 1, 0, 5, 5, 6, 5, 10, 10, 5]\n",
      "and the head has value:  5\n",
      "---------------------------------------\n",
      "after removing nodes with the value=5...\n",
      "linked list (from head to end):  [1, 1, 0, 6, 10, 10]\n",
      "and the head has value:  1\n"
     ]
    }
   ],
   "source": [
    "L = Linked_List()\n",
    "values_to_add = [5,10,10,5,6,5,5,0,1,1,5,5]\n",
    "for value in values_to_add:\n",
    "    L.append_at_head(value)\n",
    "\n",
    "print('linked list (from head to end): ', L._to_list())\n",
    "print('and the head has value: ', L.head.value)\n",
    "print('---------------------------------------')\n",
    "\n",
    "L.head = removeElements(L.head, 5)\n",
    "print('after removing nodes with the value=5...')\n",
    "print('linked list (from head to end): ', L._to_list())\n",
    "print('and the head has value: ', L.head.value)"
   ]
  },
  {
   "cell_type": "markdown",
   "id": "2f32c01f",
   "metadata": {},
   "source": [
    "**Note:** Be careful! I used the method `.append_at_head`. Therefore, the last value of the list `values_to_add` (in cell above) will become the value of the head of my linkedlist."
   ]
  },
  {
   "cell_type": "markdown",
   "id": "2eb1bfcf",
   "metadata": {},
   "source": [
    "### 3-1-3: Stack"
   ]
  },
  {
   "cell_type": "markdown",
   "id": "346e5ce8",
   "metadata": {},
   "source": [
    "As the name suggest, this data structure has Last-In-First-Out (LIFO) rule. Suppose you have a stack of items (see below). Now, you decide to add a new item. This new item will be put on top of the stack (So, this is the last item inserted to the stack). Now, if you want to get an item from this stack, it will be the last-inserted item! \n",
    "\n",
    "**Note:** Python's built-in `list` can \"act\" as stack data structure. We now implement stack with help of list.\n",
    "**Note:** the two main operations are \"push\" and \"pop\", which can be done in O(1) time."
   ]
  },
  {
   "cell_type": "code",
   "execution_count": 17,
   "id": "5d285d48",
   "metadata": {},
   "outputs": [],
   "source": [
    "# implementing stack\n",
    "class Stack:\n",
    "    def __init__(self):\n",
    "        self.stack = []\n",
    "    \n",
    "    def push(self, value):\n",
    "        self.stack.append(value)\n",
    "    \n",
    "    def pop(self):\n",
    "        return self.stack.pop()\n",
    "    \n",
    "    def peek(self):\n",
    "        return self.stack[-1]"
   ]
  },
  {
   "cell_type": "code",
   "execution_count": 18,
   "id": "c35b0c63",
   "metadata": {},
   "outputs": [
    {
     "name": "stdout",
     "output_type": "stream",
     "text": [
      "last-inserted item:  7\n",
      "------------------------------\n",
      "after removing the last item 7, the stack becomes: [10, 5, 11, 12]\n"
     ]
    }
   ],
   "source": [
    "s = Stack()\n",
    "\n",
    "for val in [10, 5, 11, 12, 7]:\n",
    "    s.push(val)\n",
    "#note that the last-inserted item is 7\n",
    "\n",
    "print('last-inserted item: ', s.peek())\n",
    "print('------------------------------')\n",
    "\n",
    "#return the last item, and remove it from stack:\n",
    "print(f'after removing the last item {s.pop()}, the stack becomes: {s.stack}')"
   ]
  },
  {
   "cell_type": "code",
   "execution_count": 19,
   "id": "fbbeb25a",
   "metadata": {},
   "outputs": [],
   "source": [
    "# Practice:\n",
    "# Leetcode: https://leetcode.com/problems/validate-stack-sequences/\n",
    "\n",
    "def validate_stack_sequences(pushed, popped):\n",
    "    \"\"\"\n",
    "    This function takes two lists `pushed` and `poped`, and return true \n",
    "    if this could have been the result of a sequence of push and pop operations \n",
    "    on an initially empty stack, or false otherwise.\n",
    "    \"\"\"\n",
    "    pushed = pushed[::-1]\n",
    "    popped = popped[::-1]\n",
    "    \n",
    "    s = Stack() #we can simply use built-in python \"list\" here.\n",
    "    while len(popped)>0:\n",
    "        if len(s.stack)>0 and s.peek() == popped[-1]:\n",
    "            popped.pop()\n",
    "            s.pop()\n",
    "        elif len(pushed) > 0:\n",
    "            s.push(pushed.pop())\n",
    "        else:\n",
    "            break\n",
    "\n",
    "    if len(popped) == 0:\n",
    "        return True\n",
    "    return False"
   ]
  },
  {
   "cell_type": "code",
   "execution_count": 20,
   "id": "6d5171e4",
   "metadata": {},
   "outputs": [
    {
     "name": "stdout",
     "output_type": "stream",
     "text": [
      "True\n"
     ]
    }
   ],
   "source": [
    "#input\n",
    "pushed = [1,2,3,4,5]\n",
    "popped = [4,5,3,2,1]\n",
    "\n",
    "#run\n",
    "out = validate_stack_sequences(pushed, popped)\n",
    "\n",
    "#output\n",
    "print(out)"
   ]
  },
  {
   "cell_type": "markdown",
   "id": "bbbd1cd0",
   "metadata": {},
   "source": [
    "Expanation: We can do .push(1) .push(2) .push(3) .push (4), .pop(4), .push(5), .pop(5), .pop(3), .pop(2), .pop(1)."
   ]
  },
  {
   "cell_type": "markdown",
   "id": "b90940e4",
   "metadata": {},
   "source": [
    "**Time Complexity of Operations:**<br>\n",
    "* Add to the top of stack: O(1)\n",
    "* Remove from the top of stack: O(1)\n"
   ]
  },
  {
   "cell_type": "markdown",
   "id": "3219c0cd",
   "metadata": {},
   "source": [
    "### 3-1-4: Queue"
   ]
  },
  {
   "cell_type": "markdown",
   "id": "ce910864",
   "metadata": {},
   "source": [
    "As the name suggest, this is similar to a queue! If you are in a bank and if there is a line, you usually go to the end of the line, becuase the concept of queue is: first come first serve!\n",
    "\n",
    "We have the same concept in the Queue's data structure. It has the rule First-In-First-Out (FIFO). We use python built-in queue class for this."
   ]
  },
  {
   "cell_type": "code",
   "execution_count": 65,
   "id": "7be4af04",
   "metadata": {},
   "outputs": [
    {
     "name": "stdout",
     "output_type": "stream",
     "text": [
      "deque([3, 1, 0, 2])\n"
     ]
    }
   ],
   "source": [
    "# from collections import deque\n",
    "q = deque()\n",
    "q.append(3)\n",
    "q.extend([1,0,2])\n",
    "print(q)"
   ]
  },
  {
   "cell_type": "markdown",
   "id": "b823184e",
   "metadata": {},
   "source": [
    "**Note:** `collections.deque` is a double-ended queue. If you want to know why we did not use the built-in `queue.queue`, you can check out this [stackoverflow post](https://stackoverflow.com/questions/717148/queue-queue-vs-collections-deque) "
   ]
  },
  {
   "cell_type": "code",
   "execution_count": 21,
   "id": "cfea78ee",
   "metadata": {},
   "outputs": [],
   "source": [
    "#implement queue\n",
    "class queue_one_end:\n",
    "    def __init__(self):\n",
    "        self.queue = []\n",
    "    \n",
    "    def enque(self, value): # .push()\n",
    "        self.queue.append(value)\n",
    "    \n",
    "    def deque(self): # .pop()\n",
    "        if len(self.queue)==0:\n",
    "            raise ValueError(\"the queue is empty.\")\n",
    "        front_of_queue = self.queue[0]\n",
    "        self.queue = self.queue[1:]\n",
    "        return front_of_queue\n",
    "    \n",
    "    def size(self):\n",
    "        return len(self.queue)\n",
    "    \n",
    "# NOTE: this implementation is not efficient as we can see that in each execution of method \"pop\", \n",
    "# the \"queue\" should be copied. \n",
    "\n",
    "# NOTE: In queue, we use the terms enque and deque instead of push and pop, respectively."
   ]
  },
  {
   "cell_type": "code",
   "execution_count": 22,
   "id": "06e61b8f",
   "metadata": {},
   "outputs": [
    {
     "name": "stdout",
     "output_type": "stream",
     "text": [
      "q is:  [3, 4, 5]\n",
      "now, poping the front of the queue:  3\n",
      "After popping the front, q is now:  [4, 5]\n"
     ]
    }
   ],
   "source": [
    "q = queue_one_end()\n",
    "q.enque(3)\n",
    "q.enque(4)\n",
    "q.enque(5)\n",
    "print('q is: ', q.queue)\n",
    "print('now, poping the front of the queue: ', q.deque())\n",
    "print('After popping the front, q is now: ', q.queue)"
   ]
  },
  {
   "cell_type": "markdown",
   "id": "0af63016",
   "metadata": {},
   "source": [
    "### 3-1-5: Hash Table"
   ]
  },
  {
   "cell_type": "markdown",
   "id": "3c64f43e",
   "metadata": {},
   "source": [
    "<img src=\"./images/HashTable.png\" alt=\"Drawing\" style=\"width: 600px;\"/>"
   ]
  },
  {
   "cell_type": "markdown",
   "id": "e8abaef1",
   "metadata": {},
   "source": [
    "We can see here that each key has a corresponding value. But, how can we store such relationship? Well, one idea is to keep both keys and values in two differnt lists: \n",
    "`keys_list = [python, ML, GitHub, Algorithm]` and `values_list = [83, 95, 60, 80]`. However, the problem here is that we cannot easily get access to the value given its corresponding name. Therefore, we  need a way to store such informaton. This is where hash-table comes in. Let us take a look at the figure above. As we can see, each key is mapped to a certain cell of an array and its corresponing value is the value of that element in the array. \n",
    "\n",
    "Let's us assume there is functon `f` that takes an 'string' input, and returns an intger number (as index of array) as the output. This function is called \"hash function.\" It maps each key to a certain index of an array and store the key's value in that element. This is the behind-the-scene of the data structure dictionary in python:"
   ]
  },
  {
   "cell_type": "code",
   "execution_count": 27,
   "id": "69e3c692",
   "metadata": {},
   "outputs": [
    {
     "data": {
      "text/plain": [
       "{'Python': 83, 'ML': 95}"
      ]
     },
     "execution_count": 27,
     "metadata": {},
     "output_type": "execute_result"
    }
   ],
   "source": [
    "d = {}\n",
    "d['Python'] = 83\n",
    "d['ML'] = 95\n",
    "d"
   ]
  },
  {
   "cell_type": "code",
   "execution_count": 28,
   "id": "86f344c4",
   "metadata": {},
   "outputs": [
    {
     "data": {
      "text/plain": [
       "95"
      ]
     },
     "execution_count": 28,
     "metadata": {},
     "output_type": "execute_result"
    }
   ],
   "source": [
    "d['ML']"
   ]
  },
  {
   "cell_type": "markdown",
   "id": "0e40dc8c",
   "metadata": {},
   "source": [
    "We can see that we can use key='ML' to get access its value. In fact, the key 'ML' is mapped to a certain index of an array in which the value 95 is stored."
   ]
  },
  {
   "cell_type": "markdown",
   "id": "0583e81e",
   "metadata": {},
   "source": [
    "There are more details into this topic, such as the collisions, how to resolve collisions, etc. However, I believe such info may not be necessary that much. You can learn more details about hash tables by checking out this [book](https://github.com/liyin2015/python-coding-interview)."
   ]
  },
  {
   "cell_type": "code",
   "execution_count": 39,
   "id": "ace63242",
   "metadata": {},
   "outputs": [],
   "source": [
    "# practice \n",
    "# https://www.hackerrank.com/challenges/ctci-ransom-note/problem\n",
    "\n",
    "def checkMagazine(magazine, note):\n",
    "    \"\"\"\n",
    "    This function takes two lists of words (`magazine` and `note`), and check if for each word in the list `note`, \n",
    "    there is at least one word in `magazine`. print 'No' if such condition is not satisfied, otherwise print 'Yes'. \n",
    "    \"\"\"\n",
    "    magazine_words_cnts = Counter(magazine)\n",
    "    note_words_cnts = Counter(note)\n",
    "    \n",
    "    for word in note_words_cnts:\n",
    "        cnt_diff = magazine_words_cnts.get(word, 0) - note_words_cnts[word]\n",
    "        if cnt_diff < 0:\n",
    "            print('No')\n",
    "            return\n",
    "    \n",
    "    print('Yes')"
   ]
  },
  {
   "cell_type": "code",
   "execution_count": 40,
   "id": "286d346b",
   "metadata": {},
   "outputs": [
    {
     "name": "stdout",
     "output_type": "stream",
     "text": [
      "Yes\n"
     ]
    }
   ],
   "source": [
    "# input\n",
    "magazine, note = ['This', 'is', 'the', 'cool', 'author'], ['author', 'is', 'cool']\n",
    "\n",
    "# running \n",
    "checkMagazine(magazine, note)"
   ]
  },
  {
   "cell_type": "markdown",
   "id": "7243eca9",
   "metadata": {},
   "source": [
    "## 3-2: \"Tree-like\" Data Structures"
   ]
  },
  {
   "cell_type": "markdown",
   "id": "e861924c",
   "metadata": {},
   "source": [
    "**Tree is a special case of [graph](https://en.wikipedia.org/wiki/Graph_(discrete_mathematics)). Therefore, it would be a  good idea to make ourselves familiar with some terminologies in graph theory (see [book](https://github.com/liyin2015/python-coding-interview) for further details):**\n",
    "\n",
    "* Node/Vertex (V): is one of the objects that are connected together. \n",
    "* Link/Edge (E): The connections between the vertices are called edges or links\n",
    "* Graph: G(V,E)\n",
    "* Indirected vs Directed \n",
    "* Unweighted vs Weighted: An unweighted graph can be seen as a weighted graph whose edges' weights are all one.\n",
    "* Path: sequence of edges. Length of path is sum of weights of edges included in the path\n",
    "* Acyclic graph: a graph with no cycles \n",
    "* Connected graph: There is a path from any vertex A to any vertex B, where $A, B \\in V$\n",
    "* Tree: A connected, acyclic indirected graph (read more: [wiki](https://en.wikipedia.org/wiki/Tree_(graph_theory)))\n",
    "* Subgraph: G(V',E') is subgraph of G(V,E) if $V' \\subset V$ and $E' \\subset E$. Two special cases:\n",
    "    * spanning subgraph: $V'=V$, $E' \\subset E$\n",
    "    * induced subgraph: $E'=E$, $V' \\subset V$\n",
    "* Complete Graph ($k_{n}$): a graph with n vertices and all possible edges, i.e. #edges: $C(n,2) = \\frac{n(n-1)}{2}$.  \n",
    "* Bipartite Graph: see [wiki](https://en.wikipedia.org/wiki/Bipartite_graph)\n",
    "\n",
    "Also:\n",
    "* Embeded graph vs Toplogical graph: see [book](https://github.com/liyin2015/python-coding-interview)\n",
    "* Implicit graph vs Explicit graph: see [book](https://github.com/liyin2015/python-coding-interview)"
   ]
  },
  {
   "cell_type": "code",
   "execution_count": null,
   "id": "9e84514b",
   "metadata": {},
   "outputs": [],
   "source": []
  }
 ],
 "metadata": {
  "kernelspec": {
   "display_name": "Python 3 (ipykernel)",
   "language": "python",
   "name": "python3"
  },
  "language_info": {
   "codemirror_mode": {
    "name": "ipython",
    "version": 3
   },
   "file_extension": ".py",
   "mimetype": "text/x-python",
   "name": "python",
   "nbconvert_exporter": "python",
   "pygments_lexer": "ipython3",
   "version": "3.8.5"
  }
 },
 "nbformat": 4,
 "nbformat_minor": 5
}
